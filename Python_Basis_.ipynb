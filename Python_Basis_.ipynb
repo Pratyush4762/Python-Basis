{
  "nbformat": 4,
  "nbformat_minor": 0,
  "metadata": {
    "colab": {
      "provenance": []
    },
    "kernelspec": {
      "name": "python3",
      "display_name": "Python 3"
    },
    "language_info": {
      "name": "python"
    }
  },
  "cells": [
    {
      "cell_type": "markdown",
      "source": [
        "1- What is Python, and why is it popular ?\n",
        "    \n",
        "  - Python is a general purpse programming language that is used to build\n",
        "    software amd website , it is popular because it is easy to understand and write.\n",
        "\n",
        "\n",
        "2- What is an interpreter in Python ?\n",
        "  \n",
        "  - A python interpreter is a program that reads and executes python code line by line.\n",
        "\n",
        "\n",
        "3- What are pre-defined keywords in Python ?\n",
        "\n",
        "   - Pre defined keywords are reserved words in python that have special meaning and cannot be used as identifiers .\n",
        "\n",
        "\n",
        "4- Can keywords be used as variable names ?\n",
        "\n",
        "  - NO, keywords cannot be used as variable names\n",
        "\n",
        "\n",
        "5- What is mutability in Python ?\n",
        "\n",
        "  - Whem objects can be changed after creation is know as mutability\n",
        "    Example - lists and dictionaries\n",
        "\n",
        "\n",
        "6- Why are lists mutable, but tuples are immutable ?\n",
        "\n",
        "  - Lists are mutable as its content can be changed and tuples are immutable because their content cannot be changed after creation . also tuples are more memory sfficient compared to lists .\n",
        "\n",
        "\n",
        "7- What is the difference between “==” and “is” operators in Python ?\n",
        "\n",
        "  - \"==\" operator help us to compare the equality of objects . \"is\" operator helps us to check whether different variables point towards a similar objects in the memory .\n",
        "\n",
        "\n",
        "8- What are logical operators in Python ?  \n",
        "\n",
        "   - Logical operators are symbols or keywords that combine and modify boolean values to produce a boolean result . They are of three type ( and , or , not)\n",
        "\n",
        "\n",
        "9- What is type casting in Python ?\n",
        "      \n",
        "   - Type casting is the process of converting a variable data type to another data type. It is often necessary for performing arithematic operations , data manipulation and input\\output operations in python programs. Function for type casting such as int(), list(), dict(), etc.\n",
        "\n",
        "\n",
        "10- What is the difference between implicit and explicit type casting ?\n",
        "\n",
        "   - Implicit type casting means interpreter automatically converts one data type to another . Explict data type means programmer manually cvonverts one data type to another .\n",
        "\n",
        "\n",
        "11- What is the purpose of conditional statements in Python ?\n",
        "\n",
        "   - Conditional statement in python are used to execute code based on the evaluation of one or more conditions. Conditional statements can be nested to handle multiple conditions and control different branches of execution based on outcome of logoical expression. Conditional statements such as if, elif and else.\n",
        "\n",
        "\n",
        "12- How does the elif statement work ?   \n",
        "\n",
        "   - Elif is a short form of \"else if\" meaning if statements pair up with elif and else statements to perform a series of checks.\n",
        "\n",
        "\n",
        "13- What is the difference between for and while loops ?\n",
        "\n",
        "  - \"For\" loops are used for interating over a sequence of element , \"while\" loop are used for executing code untill a specified condition beacomes false\n",
        "\n",
        "\n",
        "14- Describe a scenario where a while loop is more suitable than a for loop ?\n",
        "\n",
        "  - While loop is more suitable than a for loop when you need to continue looping untill a specific condition is met, rather than a set number of times.  \n",
        "\n",
        "\n",
        "\n",
        "\n",
        "\n",
        "\n",
        "\n",
        "\n"
      ],
      "metadata": {
        "id": "Ik6fRMhySVdU"
      }
    },
    {
      "cell_type": "code",
      "execution_count": null,
      "metadata": {
        "id": "Y6x2ZRKUSIbV",
        "colab": {
          "base_uri": "https://localhost:8080/"
        },
        "outputId": "3aea92f8-cb60-4054-b4cb-8049ca0e445a"
      },
      "outputs": [
        {
          "output_type": "stream",
          "name": "stdout",
          "text": [
            "Hello, WORLD!\n"
          ]
        }
      ],
      "source": [
        "#1- Write a Python program to print \"Hello, World!\n",
        "a = \"Hello, WORLD!\"\n",
        "print (a)"
      ]
    },
    {
      "cell_type": "markdown",
      "source": [],
      "metadata": {
        "id": "oFEd8sggSSKw"
      }
    },
    {
      "cell_type": "code",
      "source": [
        "#2- Write a Python program that displays your name and age\n",
        "Name = \"Pratyush Singh\"\n",
        "Age = 22\n",
        "print (Name)\n",
        "print (Age)"
      ],
      "metadata": {
        "colab": {
          "base_uri": "https://localhost:8080/"
        },
        "id": "Th4l291yyH6-",
        "outputId": "2b22cce4-eb75-462d-d81f-8410450c8865"
      },
      "execution_count": null,
      "outputs": [
        {
          "output_type": "stream",
          "name": "stdout",
          "text": [
            "Pratyush Singh\n",
            "22\n"
          ]
        }
      ]
    },
    {
      "cell_type": "code",
      "source": [
        "#3- Write code to print all the pre-defined keywords in Python using the keyword library\n",
        "help('keywords')"
      ],
      "metadata": {
        "colab": {
          "base_uri": "https://localhost:8080/"
        },
        "id": "UCqJXz-XylMU",
        "outputId": "7571a8de-fcda-43fc-c141-7592e2fdd2c0"
      },
      "execution_count": null,
      "outputs": [
        {
          "output_type": "stream",
          "name": "stdout",
          "text": [
            "\n",
            "Here is a list of the Python keywords.  Enter any keyword to get more help.\n",
            "\n",
            "False               class               from                or\n",
            "None                continue            global              pass\n",
            "True                def                 if                  raise\n",
            "and                 del                 import              return\n",
            "as                  elif                in                  try\n",
            "assert              else                is                  while\n",
            "async               except              lambda              with\n",
            "await               finally             nonlocal            yield\n",
            "break               for                 not                 \n",
            "\n"
          ]
        }
      ]
    },
    {
      "cell_type": "code",
      "source": [
        "#4- Write a program that checks if a given word is a Python keyword\n",
        "def is_keyword(word):\n",
        "  user_input = input(\"Enter a word to check if it is a python keyword:\")\n",
        "if is_keyword(user_input):\n",
        "  print(f'\"{user_input}\"is a python keyword.')\n",
        "else:\n",
        "  print(f'\"{user_input}\"is not a python keyword.')\n"
      ],
      "metadata": {
        "id": "WKaaGJlVziHD"
      },
      "execution_count": null,
      "outputs": []
    },
    {
      "cell_type": "code",
      "source": [
        "#5- Create a list and tuple in Python, and demonstrate how attempting to change an element works differently for  each\n",
        "my_list = [1,2,3,4,5]\n",
        "print(\"original list:\",my_list)"
      ],
      "metadata": {
        "colab": {
          "base_uri": "https://localhost:8080/"
        },
        "id": "Mmb-tPui65lv",
        "outputId": "f6c81b0a-648a-4d3e-f9c5-4f48d7397bba"
      },
      "execution_count": 19,
      "outputs": [
        {
          "output_type": "stream",
          "name": "stdout",
          "text": [
            "original list: [1, 2, 3, 4, 5]\n"
          ]
        }
      ]
    },
    {
      "cell_type": "code",
      "source": [
        "my_list[0] = 10\n",
        "print(\"changed list:\",my_list)"
      ],
      "metadata": {
        "colab": {
          "base_uri": "https://localhost:8080/"
        },
        "id": "WbqlXNLY9lep",
        "outputId": "738df91f-7b4c-4d75-d546-06e7cd821d58"
      },
      "execution_count": null,
      "outputs": [
        {
          "output_type": "stream",
          "name": "stdout",
          "text": [
            "changed list: [10, 2, 3, 4, 5]\n"
          ]
        }
      ]
    },
    {
      "cell_type": "code",
      "source": [
        "my_tuple = (1,2,3,4,5)\n",
        "print(\"original tuple:\",my_tuple)"
      ],
      "metadata": {
        "colab": {
          "base_uri": "https://localhost:8080/"
        },
        "id": "CYbXjyPu-Cax",
        "outputId": "862fcc38-ef01-4b79-a211-64cf9d85040b"
      },
      "execution_count": null,
      "outputs": [
        {
          "output_type": "stream",
          "name": "stdout",
          "text": [
            "original tuple: (1, 2, 3, 4, 5)\n"
          ]
        }
      ]
    },
    {
      "cell_type": "code",
      "source": [
        "my_tuple[0] = 10\n",
        "print(\"changed tuple:\",my_tuple)"
      ],
      "metadata": {
        "colab": {
          "base_uri": "https://localhost:8080/",
          "height": 158
        },
        "id": "SZfnFitN-a5o",
        "outputId": "74452080-b513-4283-d845-5c05e82866b7"
      },
      "execution_count": null,
      "outputs": [
        {
          "output_type": "error",
          "ename": "TypeError",
          "evalue": "'tuple' object does not support item assignment",
          "traceback": [
            "\u001b[0;31m---------------------------------------------------------------------------\u001b[0m",
            "\u001b[0;31mTypeError\u001b[0m                                 Traceback (most recent call last)",
            "\u001b[0;32m<ipython-input-13-74505687716e>\u001b[0m in \u001b[0;36m<cell line: 1>\u001b[0;34m()\u001b[0m\n\u001b[0;32m----> 1\u001b[0;31m \u001b[0mmy_tuple\u001b[0m\u001b[0;34m[\u001b[0m\u001b[0;36m0\u001b[0m\u001b[0;34m]\u001b[0m \u001b[0;34m=\u001b[0m \u001b[0;36m10\u001b[0m\u001b[0;34m\u001b[0m\u001b[0;34m\u001b[0m\u001b[0m\n\u001b[0m\u001b[1;32m      2\u001b[0m \u001b[0mprint\u001b[0m\u001b[0;34m(\u001b[0m\u001b[0;34m\"changed tuple:\"\u001b[0m\u001b[0;34m,\u001b[0m\u001b[0mmy_tuple\u001b[0m\u001b[0;34m)\u001b[0m\u001b[0;34m\u001b[0m\u001b[0;34m\u001b[0m\u001b[0m\n",
            "\u001b[0;31mTypeError\u001b[0m: 'tuple' object does not support item assignment"
          ]
        }
      ]
    },
    {
      "cell_type": "code",
      "source": [
        "#6- Write a function to demonstrate the behavior of mutable and immutable arguments\n",
        "   #mutable\n",
        "list = [1,2,3,4.4,\"Ajay\"]\n",
        "list[0] = \"Vijay\"\n",
        "list"
      ],
      "metadata": {
        "colab": {
          "base_uri": "https://localhost:8080/"
        },
        "id": "5GjF2GMy_Alh",
        "outputId": "84a196ba-b479-451b-84a9-8fa30f35b13f"
      },
      "execution_count": null,
      "outputs": [
        {
          "output_type": "execute_result",
          "data": {
            "text/plain": [
              "['Vijay', 2, 3, 4.4, 'Ajay']"
            ]
          },
          "metadata": {},
          "execution_count": 20
        }
      ]
    },
    {
      "cell_type": "code",
      "source": [
        "  #immutable\n",
        "tuple = (1,2,3,4,2.2,\"Ajay\")\n",
        "tuple[0] = \"Vijay\"#this show immutable cannot be changed\n",
        "tuple\n"
      ],
      "metadata": {
        "colab": {
          "base_uri": "https://localhost:8080/",
          "height": 193
        },
        "id": "Ngdjv1HwFtrP",
        "outputId": "39de93f7-5359-4c1e-d6ab-92aef4f3714e"
      },
      "execution_count": null,
      "outputs": [
        {
          "output_type": "error",
          "ename": "TypeError",
          "evalue": "'tuple' object does not support item assignment",
          "traceback": [
            "\u001b[0;31m---------------------------------------------------------------------------\u001b[0m",
            "\u001b[0;31mTypeError\u001b[0m                                 Traceback (most recent call last)",
            "\u001b[0;32m<ipython-input-21-bc50c8cf9174>\u001b[0m in \u001b[0;36m<cell line: 3>\u001b[0;34m()\u001b[0m\n\u001b[1;32m      1\u001b[0m \u001b[0;31m#immutable\u001b[0m\u001b[0;34m\u001b[0m\u001b[0;34m\u001b[0m\u001b[0m\n\u001b[1;32m      2\u001b[0m \u001b[0mtuple\u001b[0m \u001b[0;34m=\u001b[0m \u001b[0;34m(\u001b[0m\u001b[0;36m1\u001b[0m\u001b[0;34m,\u001b[0m\u001b[0;36m2\u001b[0m\u001b[0;34m,\u001b[0m\u001b[0;36m3\u001b[0m\u001b[0;34m,\u001b[0m\u001b[0;36m4\u001b[0m\u001b[0;34m,\u001b[0m\u001b[0;36m2.2\u001b[0m\u001b[0;34m,\u001b[0m\u001b[0;34m\"Ajay\"\u001b[0m\u001b[0;34m)\u001b[0m\u001b[0;34m\u001b[0m\u001b[0;34m\u001b[0m\u001b[0m\n\u001b[0;32m----> 3\u001b[0;31m \u001b[0mtuple\u001b[0m\u001b[0;34m[\u001b[0m\u001b[0;36m0\u001b[0m\u001b[0;34m]\u001b[0m \u001b[0;34m=\u001b[0m \u001b[0;34m\"Vijay\"\u001b[0m\u001b[0;34m\u001b[0m\u001b[0;34m\u001b[0m\u001b[0m\n\u001b[0m\u001b[1;32m      4\u001b[0m \u001b[0mtuple\u001b[0m\u001b[0;34m\u001b[0m\u001b[0;34m\u001b[0m\u001b[0m\n",
            "\u001b[0;31mTypeError\u001b[0m: 'tuple' object does not support item assignment"
          ]
        }
      ]
    },
    {
      "cell_type": "code",
      "source": [
        "#7- Write a function to demonstrate the behavior of mutable and immutable arguments\n",
        "     #mutable\n",
        "list = [1,2,3,4.4,\"Ajay\"]\n",
        "list[0] = \"Vijay\"\n",
        "list"
      ],
      "metadata": {
        "colab": {
          "base_uri": "https://localhost:8080/"
        },
        "id": "MaTjO010N8ke",
        "outputId": "c86f4882-7e12-45a3-9f19-3572acd1999a"
      },
      "execution_count": null,
      "outputs": [
        {
          "output_type": "execute_result",
          "data": {
            "text/plain": [
              "['Vijay', 2, 3, 4.4, 'Ajay']"
            ]
          },
          "metadata": {},
          "execution_count": 22
        }
      ]
    },
    {
      "cell_type": "code",
      "source": [
        "      #immutable\n",
        "tuple = (1,2,3,4,2.2,\"Ajay\")\n",
        "tuple[0] = \"Vijay\"#this show immutable cannot be changed\n",
        "tuple\n"
      ],
      "metadata": {
        "colab": {
          "base_uri": "https://localhost:8080/",
          "height": 193
        },
        "id": "lo0-bO2vOY-m",
        "outputId": "ddffad21-f6c9-48b2-cccf-96aa028a693c"
      },
      "execution_count": null,
      "outputs": [
        {
          "output_type": "error",
          "ename": "TypeError",
          "evalue": "'tuple' object does not support item assignment",
          "traceback": [
            "\u001b[0;31m---------------------------------------------------------------------------\u001b[0m",
            "\u001b[0;31mTypeError\u001b[0m                                 Traceback (most recent call last)",
            "\u001b[0;32m<ipython-input-23-28eac6e19c7c>\u001b[0m in \u001b[0;36m<cell line: 3>\u001b[0;34m()\u001b[0m\n\u001b[1;32m      1\u001b[0m \u001b[0;31m#immutable\u001b[0m\u001b[0;34m\u001b[0m\u001b[0;34m\u001b[0m\u001b[0m\n\u001b[1;32m      2\u001b[0m \u001b[0mtuple\u001b[0m \u001b[0;34m=\u001b[0m \u001b[0;34m(\u001b[0m\u001b[0;36m1\u001b[0m\u001b[0;34m,\u001b[0m\u001b[0;36m2\u001b[0m\u001b[0;34m,\u001b[0m\u001b[0;36m3\u001b[0m\u001b[0;34m,\u001b[0m\u001b[0;36m4\u001b[0m\u001b[0;34m,\u001b[0m\u001b[0;36m2.2\u001b[0m\u001b[0;34m,\u001b[0m\u001b[0;34m\"Ajay\"\u001b[0m\u001b[0;34m)\u001b[0m\u001b[0;34m\u001b[0m\u001b[0;34m\u001b[0m\u001b[0m\n\u001b[0;32m----> 3\u001b[0;31m \u001b[0mtuple\u001b[0m\u001b[0;34m[\u001b[0m\u001b[0;36m0\u001b[0m\u001b[0;34m]\u001b[0m \u001b[0;34m=\u001b[0m \u001b[0;34m\"Vijay\"\u001b[0m\u001b[0;31m#this show immutable cannot be changed\u001b[0m\u001b[0;34m\u001b[0m\u001b[0;34m\u001b[0m\u001b[0m\n\u001b[0m\u001b[1;32m      4\u001b[0m \u001b[0mtuple\u001b[0m\u001b[0;34m\u001b[0m\u001b[0;34m\u001b[0m\u001b[0m\n",
            "\u001b[0;31mTypeError\u001b[0m: 'tuple' object does not support item assignment"
          ]
        }
      ]
    },
    {
      "cell_type": "code",
      "source": [
        "#8- Write a program to demonstrate the use of logical operators\n",
        "print(True and False)\n",
        "print(True or False)\n",
        "print(not False)\n"
      ],
      "metadata": {
        "colab": {
          "base_uri": "https://localhost:8080/"
        },
        "id": "5wmHPgfTOjRE",
        "outputId": "aec83125-d6de-47a6-be31-4db46f5fad69"
      },
      "execution_count": null,
      "outputs": [
        {
          "output_type": "stream",
          "name": "stdout",
          "text": [
            "False\n",
            "True\n",
            "True\n"
          ]
        }
      ]
    },
    {
      "cell_type": "code",
      "source": [
        "#9- Write a Python program to convert user input from string to integer, float, and boolean types\n",
        "    #string to integer\n",
        "a = \"45\"\n",
        "b = int(a)\n",
        "b"
      ],
      "metadata": {
        "id": "dPnlTEjrQtKd",
        "colab": {
          "base_uri": "https://localhost:8080/"
        },
        "outputId": "2de1dd5c-77e0-4d54-a986-a8decc54ab21"
      },
      "execution_count": null,
      "outputs": [
        {
          "output_type": "execute_result",
          "data": {
            "text/plain": [
              "45"
            ]
          },
          "metadata": {},
          "execution_count": 3
        }
      ]
    },
    {
      "cell_type": "code",
      "source": [
        "    #string to float\n",
        "a = \"45\"\n",
        "float (a)"
      ],
      "metadata": {
        "colab": {
          "base_uri": "https://localhost:8080/"
        },
        "id": "lfqObv2h41Mb",
        "outputId": "1569c117-cda7-4004-bbec-59757d143279"
      },
      "execution_count": null,
      "outputs": [
        {
          "output_type": "execute_result",
          "data": {
            "text/plain": [
              "45.0"
            ]
          },
          "metadata": {},
          "execution_count": 9
        }
      ]
    },
    {
      "cell_type": "code",
      "source": [
        "    #string to boolean\n",
        "a = \"45\"\n",
        "bool (a)"
      ],
      "metadata": {
        "colab": {
          "base_uri": "https://localhost:8080/"
        },
        "id": "E3-LL6GU6lFE",
        "outputId": "c9f4b5a8-e87e-4b43-ae74-d6c1e0b9a894"
      },
      "execution_count": null,
      "outputs": [
        {
          "output_type": "execute_result",
          "data": {
            "text/plain": [
              "True"
            ]
          },
          "metadata": {},
          "execution_count": 10
        }
      ]
    },
    {
      "cell_type": "code",
      "source": [
        "#10- Write code to demonstrate type casting with list elements\n",
        "string_numbers = [\"1\",\"2\",\"3\",\"4\",\"5\"]\n",
        "int_numbers = [int(num) for num in string_numbers]\n",
        "print(\"original list of strings:\",string_numbers)\n",
        "print(\"converted list of strings:\",int_numbers)"
      ],
      "metadata": {
        "id": "rgAs_fXx7rg8",
        "colab": {
          "base_uri": "https://localhost:8080/"
        },
        "outputId": "af46cdb2-60bf-4830-9c20-cc892f5cb512"
      },
      "execution_count": 1,
      "outputs": [
        {
          "output_type": "stream",
          "name": "stdout",
          "text": [
            "original list of strings: ['1', '2', '3', '4', '5']\n",
            "converted list of strings: [1, 2, 3, 4, 5]\n"
          ]
        }
      ]
    },
    {
      "cell_type": "code",
      "source": [
        "#11- Write a program that checks if a number is positive, negative, or zero\n",
        "def check_number(num):\n",
        "  if num>0:\n",
        "    return \"The number is positive.\"\n",
        "  elif num<0:\n",
        "    return \"The number is negative.\"\n",
        "  else:\n",
        "    return \"The number is zero\"\n",
        "user_input = float(input(\"Enter a number:\"))\n",
        "result = check_number(user_input)\n",
        "print(result)"
      ],
      "metadata": {
        "id": "Cz8nIBIS86R2",
        "colab": {
          "base_uri": "https://localhost:8080/"
        },
        "outputId": "6b0faf5a-71ee-4335-fe57-ce2494e26672"
      },
      "execution_count": 4,
      "outputs": [
        {
          "output_type": "stream",
          "name": "stdout",
          "text": [
            "Enter a number:-74\n",
            "The number is negative.\n"
          ]
        }
      ]
    },
    {
      "cell_type": "code",
      "source": [
        "#12- Write a for loop to print numbers from 1 to 10\n",
        "l = [1,2,3,4,5,6,7,8,9,10]\n",
        "for i in l:\n",
        "  print (i)"
      ],
      "metadata": {
        "colab": {
          "base_uri": "https://localhost:8080/"
        },
        "id": "jyrk87fF8_eV",
        "outputId": "272d1501-e575-4ef4-8264-1e70e53053a8"
      },
      "execution_count": null,
      "outputs": [
        {
          "output_type": "stream",
          "name": "stdout",
          "text": [
            "1\n",
            "2\n",
            "3\n",
            "4\n",
            "5\n",
            "6\n",
            "7\n",
            "8\n",
            "9\n",
            "10\n"
          ]
        }
      ]
    },
    {
      "cell_type": "code",
      "source": [
        "#13- Write a Python program to find the sum of all even numbers between 1 and 50\n",
        "sum_of_even = 0\n",
        "for number in range (1,51):\n",
        "  if number % 2 == 0:\n",
        "    sum_of_even +=number\n",
        "    print (\"The sum of all even numbers between 1 and 50 is:\",sum_of_even)"
      ],
      "metadata": {
        "colab": {
          "base_uri": "https://localhost:8080/"
        },
        "id": "xAE7OAPR9Tx9",
        "outputId": "643f96bd-f254-4463-b775-166dd2b81201"
      },
      "execution_count": null,
      "outputs": [
        {
          "output_type": "stream",
          "name": "stdout",
          "text": [
            "The sum of all even numbers between 1 and 50 is: 2\n",
            "The sum of all even numbers between 1 and 50 is: 6\n",
            "The sum of all even numbers between 1 and 50 is: 12\n",
            "The sum of all even numbers between 1 and 50 is: 20\n",
            "The sum of all even numbers between 1 and 50 is: 30\n",
            "The sum of all even numbers between 1 and 50 is: 42\n",
            "The sum of all even numbers between 1 and 50 is: 56\n",
            "The sum of all even numbers between 1 and 50 is: 72\n",
            "The sum of all even numbers between 1 and 50 is: 90\n",
            "The sum of all even numbers between 1 and 50 is: 110\n",
            "The sum of all even numbers between 1 and 50 is: 132\n",
            "The sum of all even numbers between 1 and 50 is: 156\n",
            "The sum of all even numbers between 1 and 50 is: 182\n",
            "The sum of all even numbers between 1 and 50 is: 210\n",
            "The sum of all even numbers between 1 and 50 is: 240\n",
            "The sum of all even numbers between 1 and 50 is: 272\n",
            "The sum of all even numbers between 1 and 50 is: 306\n",
            "The sum of all even numbers between 1 and 50 is: 342\n",
            "The sum of all even numbers between 1 and 50 is: 380\n",
            "The sum of all even numbers between 1 and 50 is: 420\n",
            "The sum of all even numbers between 1 and 50 is: 462\n",
            "The sum of all even numbers between 1 and 50 is: 506\n",
            "The sum of all even numbers between 1 and 50 is: 552\n",
            "The sum of all even numbers between 1 and 50 is: 600\n",
            "The sum of all even numbers between 1 and 50 is: 650\n"
          ]
        }
      ]
    },
    {
      "cell_type": "code",
      "source": [
        "#14- Write a program to reverse a string using a while loop\n",
        "a =  \"pwskills\"\n",
        "a[::-1]"
      ],
      "metadata": {
        "colab": {
          "base_uri": "https://localhost:8080/",
          "height": 35
        },
        "id": "oorBCTGy_IzY",
        "outputId": "2f68069f-0d80-40c5-c547-e3e8f76b9590"
      },
      "execution_count": null,
      "outputs": [
        {
          "output_type": "execute_result",
          "data": {
            "text/plain": [
              "'sllikswp'"
            ],
            "application/vnd.google.colaboratory.intrinsic+json": {
              "type": "string"
            }
          },
          "metadata": {},
          "execution_count": 13
        }
      ]
    },
    {
      "cell_type": "code",
      "source": [
        "#15- Write a Python program to calculate the factorial of a number provided by the user using a while loop\n",
        "def calculate_factorial(n):\n",
        "  factorial =\n",
        "  counter = 1\n",
        "  while counter <=n:\n",
        "    factorial *=counter\n",
        "    counter +=1\n",
        "    return factorial\n",
        "user_input = int(input(\"Enter a number to calculate its factorial\"))\n",
        "result = calculate_factorial(user_input)\n",
        "print(\"The factorial of\",user_input,\"is:\",result)\n"
      ],
      "metadata": {
        "colab": {
          "base_uri": "https://localhost:8080/"
        },
        "id": "NrZGgNBE_xbQ",
        "outputId": "bebaf807-629a-4b14-9574-3c1d2c069e26"
      },
      "execution_count": null,
      "outputs": [
        {
          "output_type": "stream",
          "name": "stdout",
          "text": [
            "Enter a number to calculate its factorial5\n",
            "The factorial of 5 is: 5\n"
          ]
        }
      ]
    },
    {
      "cell_type": "code",
      "source": [],
      "metadata": {
        "id": "wvvI0tM0OrOg"
      },
      "execution_count": null,
      "outputs": []
    }
  ]
}